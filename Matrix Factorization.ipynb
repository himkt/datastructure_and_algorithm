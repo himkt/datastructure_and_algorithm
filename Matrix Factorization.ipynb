{
 "cells": [
  {
   "cell_type": "markdown",
   "metadata": {},
   "source": [
    "# Matrix Factorization\n",
    "\n",
    "source: [here](http://www.quuxlabs.com/blog/2010/09/matrix-factorization-a-simple-tutorial-and-implementation-in-python/)"
   ]
  },
  {
   "cell_type": "markdown",
   "metadata": {},
   "source": [
    "$$ R \\simeq PQ = \\hat{R} $$"
   ]
  },
  {
   "cell_type": "code",
   "execution_count": 2,
   "metadata": {
    "collapsed": true
   },
   "outputs": [],
   "source": [
    "import numpy"
   ]
  },
  {
   "cell_type": "markdown",
   "metadata": {},
   "source": [
    "## error\n",
    "scalar indicates the difference between $$R \\ and \\  \\hat{R}$$\n",
    "\n",
    "### regularization term\n",
    "\n",
    "scalar $$ \\lambda ( \\sum_{i}^{} \\|x_i\\| ^2 + \\sum_{j}^{} \\|y_j\\| ^2 ) $$"
   ]
  },
  {
   "cell_type": "code",
   "execution_count": 5,
   "metadata": {
    "collapsed": true
   },
   "outputs": [],
   "source": [
    "def error(P, Q, i, j):\n",
    "    return R[i][j] - numpy.dot(P[i,:],Q[:,j])\n",
    "\n",
    "\n",
    "def regular(beta, P, Q, i, k, j):\n",
    "    return (beta/2) * (pow(P[i][k], 2) + pow(Q[k][j], 2))\n",
    "\n",
    "\n",
    "def matrix_factorization(R, P, Q, K, steps=5000, alpha=0.0002, beta=0.02):\n",
    "    Q = Q.T\n",
    "    for step in range(steps):\n",
    "        for i in range(len(R)):\n",
    "            for j in range(len(R[i])):\n",
    "                if R[i][j] > 0:\n",
    "                    for k in range(K):\n",
    "                        P[i][k] = P[i][k] + alpha * (2 * error(P, Q, i, j)\n",
    "                                                     * Q[k][j] - beta * P[i][k])\n",
    "                        Q[k][j] = Q[k][j] + alpha * (2 * error(P, Q, i, j) \n",
    "                                                     * P[i][k] - beta * Q[k][j])\n",
    "        \n",
    "        \n",
    "        eR = numpy.dot(P,Q)\n",
    "        e = 0\n",
    "        for i in range(len(R)):\n",
    "            for j in range(len(R[i])):\n",
    "                if R[i][j] > 0:\n",
    "                    e = e + error(P, Q, i, j) ** 2\n",
    "                    for k in range(K):                      \n",
    "                        e = e + regular(beta, P, Q, i, k, j)\n",
    "        if e < 0.001:\n",
    "            break\n",
    "    return P, Q.T"
   ]
  },
  {
   "cell_type": "markdown",
   "metadata": {},
   "source": [
    "## Experiments"
   ]
  },
  {
   "cell_type": "code",
   "execution_count": 6,
   "metadata": {
    "collapsed": false
   },
   "outputs": [
    {
     "name": "stdout",
     "output_type": "stream",
     "text": [
      "[[ 5.04412737  2.79980887  5.61699272  0.99512797]\n",
      " [ 3.92353281  2.17961936  4.49568822  1.00110353]\n",
      " [ 1.12168842  0.66044396  3.89292911  4.96453571]\n",
      " [ 0.93934042  0.55163335  3.15909328  3.97630913]\n",
      " [ 2.59586174  1.46892927  4.85156314  4.03008701]]\n"
     ]
    }
   ],
   "source": [
    "R = [\n",
    "     [5,3,0,1],\n",
    "     [4,0,0,1],\n",
    "     [1,1,0,5],\n",
    "     [1,0,0,4],\n",
    "     [0,1,5,4],\n",
    "    ]\n",
    "\n",
    "R = numpy.array(R)\n",
    "\n",
    "N = len(R)\n",
    "M = len(R[0])\n",
    "\n",
    "# number of dimension about factor vector\n",
    "K = 2\n",
    "\n",
    "P = numpy.random.rand(N,K)\n",
    "Q = numpy.random.rand(M,K)\n",
    "\n",
    "nP, nQ = matrix_factorization(R, P, Q, K)\n",
    "nR = numpy.dot(nP, nQ.T)\n",
    "\n",
    "print(nR)"
   ]
  }
 ],
 "metadata": {
  "anaconda-cloud": {},
  "kernelspec": {
   "display_name": "Python [default]",
   "language": "python",
   "name": "python3"
  },
  "language_info": {
   "codemirror_mode": {
    "name": "ipython",
    "version": 3
   },
   "file_extension": ".py",
   "mimetype": "text/x-python",
   "name": "python",
   "nbconvert_exporter": "python",
   "pygments_lexer": "ipython3",
   "version": "3.5.2"
  }
 },
 "nbformat": 4,
 "nbformat_minor": 0
}
